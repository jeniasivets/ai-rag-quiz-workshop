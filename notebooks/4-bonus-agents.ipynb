{
 "cells": [
  {
   "cell_type": "markdown",
   "metadata": {},
   "source": [
    "# Bonus: Agents \n",
    "\n",
    "This task is a bonus task that you can do if you still have time.\n",
    "\n",
    "Agents are programs that can interact with the world and execute tasks. They are a core concept in the field of AI and are used in a wide range of applications, from chatbots to autonomous robots.\n",
    "\n",
    "In the cell bellow you can see how to create a simple agent to interact with the host machine command line interface via natural language."
   ]
  },
  {
   "cell_type": "code",
   "execution_count": 2,
   "metadata": {},
   "outputs": [
    {
     "name": "stdout",
     "output_type": "stream",
     "text": [
      "Command:  python --version\n",
      "Python 3.12.7\n",
      "\n",
      "Command:  curl wttr.in/tomorrow\n",
      "Weather report: tomorrow\n",
      "\n",
      "  \u001b[38;5;226m    \\   /    \u001b[0m Sunny\n",
      "  \u001b[38;5;226m     .-.     \u001b[0m \u001b[38;5;050m0\u001b[0m(\u001b[38;5;051m-2\u001b[0m) °C\u001b[0m       \n",
      "  \u001b[38;5;226m  ― (   ) ―  \u001b[0m \u001b[1m↙\u001b[0m \u001b[38;5;118m5\u001b[0m km/h\u001b[0m       \n",
      "  \u001b[38;5;226m     `-’     \u001b[0m 10 km\u001b[0m          \n",
      "  \u001b[38;5;226m    /   \\    \u001b[0m 0.0 mm\u001b[0m         \n",
      "                                                       ┌─────────────┐                                                       \n",
      "┌──────────────────────────────┬───────────────────────┤  Tue 26 Nov ├───────────────────────┬──────────────────────────────┐\n",
      "│            Morning           │             Noon      └──────┬──────┘     Evening           │             Night            │\n",
      "├──────────────────────────────┼──────────────────────────────┼──────────────────────────────┼──────────────────────────────┤\n",
      "│ \u001b[38;5;226m   \\  /\u001b[0m       Partly Cloudy  │ \u001b[38;5;226m   \\  /\u001b[0m       Partly Cloudy  │               Mist           │               Mist           │\n",
      "│ \u001b[38;5;226m _ /\"\"\u001b[38;5;250m.-.    \u001b[0m \u001b[38;5;050m1\u001b[0m °C\u001b[0m           │ \u001b[38;5;226m _ /\"\"\u001b[38;5;250m.-.    \u001b[0m \u001b[38;5;050m+1\u001b[0m(\u001b[38;5;050m0\u001b[0m) °C\u001b[0m       │ \u001b[38;5;251m _ - _ - _ - \u001b[0m \u001b[38;5;046m+8\u001b[0m(\u001b[38;5;047m7\u001b[0m) °C\u001b[0m       │ \u001b[38;5;251m _ - _ - _ - \u001b[0m \u001b[38;5;046m8\u001b[0m °C\u001b[0m           │\n",
      "│ \u001b[38;5;226m   \\_\u001b[38;5;250m(   ).  \u001b[0m \u001b[1m↙\u001b[0m \u001b[38;5;118m6\u001b[0m-\u001b[38;5;226m13\u001b[0m km/h\u001b[0m    │ \u001b[38;5;226m   \\_\u001b[38;5;250m(   ).  \u001b[0m \u001b[1m←\u001b[0m \u001b[38;5;046m0\u001b[0m-\u001b[38;5;082m1\u001b[0m km/h\u001b[0m     │ \u001b[38;5;251m  _ - _ - _  \u001b[0m \u001b[1m↓\u001b[0m \u001b[38;5;082m1\u001b[0m km/h\u001b[0m       │ \u001b[38;5;251m  _ - _ - _  \u001b[0m \u001b[1m↙\u001b[0m \u001b[38;5;082m1\u001b[0m km/h\u001b[0m       │\n",
      "│ \u001b[38;5;226m   /\u001b[38;5;250m(___(__) \u001b[0m 10 km\u001b[0m          │ \u001b[38;5;226m   /\u001b[38;5;250m(___(__) \u001b[0m 10 km\u001b[0m          │ \u001b[38;5;251m _ - _ - _ - \u001b[0m 10 km\u001b[0m          │ \u001b[38;5;251m _ - _ - _ - \u001b[0m 10 km\u001b[0m          │\n",
      "│               0.0 mm | 0%\u001b[0m    │               0.0 mm | 0%\u001b[0m    │               0.0 mm | 0%\u001b[0m    │               0.0 mm | 0%\u001b[0m    │\n",
      "└──────────────────────────────┴──────────────────────────────┴──────────────────────────────┴──────────────────────────────┘\n",
      "                                                       ┌─────────────┐                                                       \n",
      "┌──────────────────────────────┬───────────────────────┤  Wed 27 Nov ├───────────────────────┬──────────────────────────────┐\n",
      "│            Morning           │             Noon      └──────┬──────┘     Evening           │             Night            │\n",
      "├──────────────────────────────┼──────────────────────────────┼──────────────────────────────┼──────────────────────────────┤\n",
      "│               Mist           │               Cloudy         │               Cloudy         │               Mist           │\n",
      "│ \u001b[38;5;251m _ - _ - _ - \u001b[0m \u001b[38;5;048m+4\u001b[0m(\u001b[38;5;049m3\u001b[0m) °C\u001b[0m       │ \u001b[38;5;250m     .--.    \u001b[0m \u001b[38;5;050m+1\u001b[0m(\u001b[38;5;051m-2\u001b[0m) °C\u001b[0m      │ \u001b[38;5;250m     .--.    \u001b[0m \u001b[38;5;047m7\u001b[0m °C\u001b[0m           │ \u001b[38;5;251m _ - _ - _ - \u001b[0m \u001b[38;5;049m3\u001b[0m °C\u001b[0m           │\n",
      "│ \u001b[38;5;251m  _ - _ - _  \u001b[0m \u001b[1m↓\u001b[0m \u001b[38;5;082m2\u001b[0m-\u001b[38;5;118m4\u001b[0m km/h\u001b[0m     │ \u001b[38;5;250m  .-(    ).  \u001b[0m \u001b[1m↑\u001b[0m \u001b[38;5;082m1\u001b[0m-\u001b[38;5;082m2\u001b[0m km/h\u001b[0m     │ \u001b[38;5;250m  .-(    ).  \u001b[0m \u001b[1m↗\u001b[0m \u001b[38;5;082m1\u001b[0m km/h\u001b[0m       │ \u001b[38;5;251m  _ - _ - _  \u001b[0m \u001b[1m←\u001b[0m \u001b[38;5;082m3\u001b[0m-\u001b[38;5;118m5\u001b[0m km/h\u001b[0m     │\n",
      "│ \u001b[38;5;251m _ - _ - _ - \u001b[0m 5 km\u001b[0m           │ \u001b[38;5;250m (___.__)__) \u001b[0m 10 km\u001b[0m          │ \u001b[38;5;250m (___.__)__) \u001b[0m 10 km\u001b[0m          │ \u001b[38;5;251m _ - _ - _ - \u001b[0m 10 km\u001b[0m          │\n",
      "│               0.0 mm | 0%\u001b[0m    │               0.0 mm | 0%\u001b[0m    │               0.0 mm | 0%\u001b[0m    │               0.0 mm | 0%\u001b[0m    │\n",
      "└──────────────────────────────┴──────────────────────────────┴──────────────────────────────┴──────────────────────────────┘\n",
      "                                                       ┌─────────────┐                                                       \n",
      "┌──────────────────────────────┬───────────────────────┤  Thu 28 Nov ├───────────────────────┬──────────────────────────────┐\n",
      "│            Morning           │             Noon      └──────┬──────┘     Evening           │             Night            │\n",
      "├──────────────────────────────┼──────────────────────────────┼──────────────────────────────┼──────────────────────────────┤\n",
      "│               Fog            │               Fog            │               Mist           │               Mist           │\n",
      "│ \u001b[38;5;251m _ - _ - _ - \u001b[0m \u001b[38;5;050m0\u001b[0m °C\u001b[0m           │ \u001b[38;5;251m _ - _ - _ - \u001b[0m \u001b[38;5;050m1\u001b[0m °C\u001b[0m           │ \u001b[38;5;251m _ - _ - _ - \u001b[0m \u001b[38;5;048m4\u001b[0m °C\u001b[0m           │ \u001b[38;5;251m _ - _ - _ - \u001b[0m \u001b[38;5;047m7\u001b[0m °C\u001b[0m           │\n",
      "│ \u001b[38;5;251m  _ - _ - _  \u001b[0m \u001b[1m↓\u001b[0m \u001b[38;5;118m5\u001b[0m-\u001b[38;5;190m10\u001b[0m km/h\u001b[0m    │ \u001b[38;5;251m  _ - _ - _  \u001b[0m \u001b[1m←\u001b[0m \u001b[38;5;046m0\u001b[0m-\u001b[38;5;082m1\u001b[0m km/h\u001b[0m     │ \u001b[38;5;251m  _ - _ - _  \u001b[0m \u001b[1m↗\u001b[0m \u001b[38;5;082m1\u001b[0m-\u001b[38;5;082m3\u001b[0m km/h\u001b[0m     │ \u001b[38;5;251m  _ - _ - _  \u001b[0m \u001b[1m↗\u001b[0m \u001b[38;5;082m1\u001b[0m km/h\u001b[0m       │\n",
      "│ \u001b[38;5;251m _ - _ - _ - \u001b[0m 10 km\u001b[0m          │ \u001b[38;5;251m _ - _ - _ - \u001b[0m 10 km\u001b[0m          │ \u001b[38;5;251m _ - _ - _ - \u001b[0m 10 km\u001b[0m          │ \u001b[38;5;251m _ - _ - _ - \u001b[0m 10 km\u001b[0m          │\n",
      "│               0.0 mm | 0%\u001b[0m    │               0.0 mm | 0%\u001b[0m    │               0.0 mm | 0%\u001b[0m    │               0.0 mm | 0%\u001b[0m    │\n",
      "└──────────────────────────────┴──────────────────────────────┴──────────────────────────────┴──────────────────────────────┘\n",
      "Location: Tomorrow, Squamish, Squamish-Lillooet Regional District, British Columbia, V8B 0H4, Canada [49.71733,-123.1039045]\n",
      "\n",
      "Follow \u001b[46m\u001b[30m@igor_chubin\u001b[0m for wttr.in updates\n",
      "\n"
     ]
    }
   ],
   "source": [
    "# add parent folder to python path\n",
    "import sys\n",
    "sys.path.append(\"..\")\n",
    "\n",
    "from chat_solution.llm import LargeLanguageModel\n",
    "\n",
    "\n",
    "class TerminalAgent:\n",
    "\n",
    "    def __init__(self):\n",
    "        self.llm = LargeLanguageModel() \n",
    "        self.current_cmd = \"\"\n",
    "\n",
    "    def run(self, user_query):\n",
    "        self.current_cmd = self.get_cmd(user_query)\n",
    "        return self.execute_cmd()   \n",
    "\n",
    "    def get_cmd(self, user_query):    \n",
    "        prompt = \"\"\"You are an agent that converts the user's input into bash commands to be executed on a linux machine.\n",
    "    Return only the command, without any explanation or demarcation.\n",
    "\n",
    "    Examples\n",
    "\n",
    "    1. User: \"I want to know the weather in Tokyo\"\n",
    "    Agent: curl wttr.in/Tokyo\n",
    "\n",
    "    2. User: \"how many memory does my computer have?\"\n",
    "    Agent: free -m | grep Mem\n",
    "\n",
    "\n",
    "    Real case:\n",
    "\n",
    "    User: {user_query}\n",
    "    Agent:\n",
    "    \"\"\"\n",
    "        self.current_cmd = self.llm.call(prompt.format(user_query=user_query))\n",
    "        print(\"Command: \", self.current_cmd)\n",
    "        return self.current_cmd\n",
    "    \n",
    "    def execute_cmd(self):\n",
    "        # use subprocess to execute the command and get the output\n",
    "        import subprocess\n",
    "        output = subprocess.run(self.current_cmd, shell=True, capture_output=True, text=True)\n",
    "        if output.returncode != 0:\n",
    "            print(\"Error: \", output.stderr)\n",
    "            return output.stderr\n",
    "            \n",
    "        return output.stdout\n",
    "\n",
    "#print(get_cmd(\"create a file named 'test.txt'\"))\n",
    "\n",
    "agent = TerminalAgent()\n",
    "print(agent.run(\"which python version is installed?\"))\n",
    "\n",
    "#print(agent.run(\"which packages are installed in python?\"))\n",
    "#print(agent.run(\"what is the current time?\"))\n",
    "#print(agent.run(\"which kernel is running?\"))\n",
    "\n",
    "result = agent.run(\"what is the weather tomorrow?\")\n",
    "print(result)"
   ]
  },
  {
   "cell_type": "markdown",
   "metadata": {},
   "source": [
    "# Task 1\n",
    "\n",
    "Create an agent like the above that solve maths questions in python. \n"
   ]
  },
  {
   "cell_type": "code",
   "execution_count": 1,
   "metadata": {},
   "outputs": [],
   "source": [
    "# your solution here"
   ]
  }
 ],
 "metadata": {
  "kernelspec": {
   "display_name": "Python 3",
   "language": "python",
   "name": "python3"
  },
  "language_info": {
   "codemirror_mode": {
    "name": "ipython",
    "version": 3
   },
   "file_extension": ".py",
   "mimetype": "text/x-python",
   "name": "python",
   "nbconvert_exporter": "python",
   "pygments_lexer": "ipython3",
   "version": "3.12.7"
  }
 },
 "nbformat": 4,
 "nbformat_minor": 2
}
